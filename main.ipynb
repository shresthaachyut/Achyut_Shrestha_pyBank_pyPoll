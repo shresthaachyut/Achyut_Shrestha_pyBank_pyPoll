{
 "cells": [
  {
   "cell_type": "code",
   "execution_count": 102,
   "metadata": {},
   "outputs": [],
   "source": [
    "import pandas as pd"
   ]
  },
  {
   "cell_type": "code",
   "execution_count": 103,
   "metadata": {},
   "outputs": [],
   "source": [
    "budgetData = pd.read_csv('Resources/budget_data.csv')\n",
    "pollData = pd.read_csv('Resources/election_data.csv')"
   ]
  },
  {
   "cell_type": "code",
   "execution_count": 104,
   "metadata": {},
   "outputs": [],
   "source": [
    "#--------------------------------------------------------------------------------------------------\n",
    "#                                     Calculations for pyBank\n",
    "#--------------------------------------------------------------------------------------------------\n",
    "months = budgetData['Date'].nunique()\n",
    "total_PL = budgetData['Profit/Losses'].sum()\n",
    "budgetData['change'] = budgetData['Profit/Losses'].diff() \n",
    "avgchg = round(budgetData['change'].mean(),2)\n",
    "\n",
    "grtIncProfit = budgetData['change'].max()\n",
    "grtIncProfitMonth = budgetData[budgetData['change'] == grtIncProfit].Date.max()\n",
    "\n",
    "grtDecProfit = budgetData['change'].min()\n",
    "grtDecProfitMonth = budgetData[budgetData['change'] == grtDecProfit].Date.min() \n"
   ]
  },
  {
   "cell_type": "code",
   "execution_count": 105,
   "metadata": {},
   "outputs": [],
   "source": [
    "#---------------------------------------------------------------------------------------------------\n",
    "#                                     Calculations for pyPoll\n",
    "#---------------------------------------------------------------------------------------------------\n",
    "\n",
    "totalVotes = pollData['Voter ID'].count()\n",
    "candidates = pollData['Candidate'].unique()\n",
    "\n",
    "summary_df = pd.DataFrame(pollData.groupby(['Candidate']).count())\n",
    "summary_df.reset_index(inplace=True)\n",
    "summary_df = summary_df.drop('County', axis=1)\n",
    "summary_df.rename(columns = {'Voter ID':'Vote_Count'},inplace = True)\n",
    "summary_df['Vote_Percentage'] = summary_df['Vote_Count']/totalVotes*100\n",
    "summary_df['Vote_Percentage'] = summary_df['Vote_Percentage'].round(4)\n",
    "\n",
    "khan_vote = summary_df.loc[summary_df['Candidate'] == 'Khan', 'Vote_Count'].max()\n",
    "khan_votePercentage = summary_df.loc[summary_df['Candidate'] == 'Khan', 'Vote_Percentage'].max()\n",
    "\n",
    "Correy_vote = summary_df.loc[summary_df['Candidate'] == 'Correy', 'Vote_Count'].max()\n",
    "Correy_votePercentage = summary_df.loc[summary_df['Candidate'] == 'Correy', 'Vote_Percentage'].max()\n",
    "\n",
    "Li_vote = summary_df.loc[summary_df['Candidate'] == 'Li', 'Vote_Count'].max()\n",
    "Li_votePercentage = summary_df.loc[summary_df['Candidate'] == 'Li', 'Vote_Percentage'].max()\n",
    "\n",
    "Tooley_vote = summary_df.loc[summary_df['Candidate'] == \"O'Tooley\", 'Vote_Count'].max()\n",
    "Tooley_votePercentage = summary_df.loc[summary_df['Candidate'] == \"O'Tooley\", 'Vote_Percentage'].max() \n",
    "    \n",
    "Winner = summary_df.loc[summary_df['Vote_Count'] == summary_df['Vote_Count'].max(), 'Candidate'].max()    \n",
    "    \n",
    "    "
   ]
  },
  {
   "cell_type": "code",
   "execution_count": 106,
   "metadata": {},
   "outputs": [
    {
     "name": "stdout",
     "output_type": "stream",
     "text": [
      "Financial Analysis\n",
      "-------------------------\n",
      "Total Months : 86\n",
      "Total : $38382578\n",
      "Average Change : $-2315.12\n",
      "Greatest Increase in Profit : $Feb-2012 ($1926159)\n",
      "Greatest Decrease in Profit : $Sep-2013 ($-2196167)\n"
     ]
    }
   ],
   "source": [
    "#---------------------------------------------------------------------------------------------------\n",
    "#                                     printing pyBank in screen\n",
    "#---------------------------------------------------------------------------------------------------\n",
    "\n",
    "print(\"Financial Analysis\")\n",
    "print(\"-------------------------\")\n",
    "print(\"Total Months : \" + str(months))\n",
    "print(\"Total : $\" + str(total_PL))\n",
    "print(\"Average Change : $\" + str(avgchg))\n",
    "print(\"Greatest Increase in Profit : $\" + str(grtIncProfitMonth) + \" ($\" + str(int(grtIncProfit)) + \")\")\n",
    "print(\"Greatest Decrease in Profit : $\" + str(grtDecProfitMonth) + \" ($\" + str(int(grtDecProfit)) + \")\")"
   ]
  },
  {
   "cell_type": "code",
   "execution_count": 107,
   "metadata": {},
   "outputs": [
    {
     "name": "stdout",
     "output_type": "stream",
     "text": [
      "Election Results\n",
      "----------------------\n",
      "Total Votes: 3521001\n",
      "----------------------\n",
      "khan: 63.0% (2218231)\n",
      "Correy: 20.0% (704200)\n",
      "Li: 14.0% (492940)\n",
      "O'Tooley: 3.0% (105630)\n",
      "----------------------\n",
      "Winner: Khan\n",
      "----------------------\n"
     ]
    }
   ],
   "source": [
    "#---------------------------------------------------------------------------------------------------\n",
    "#                                     printing pyPoll in screen\n",
    "#---------------------------------------------------------------------------------------------------\n",
    "\n",
    "print(\"Election Results\")\n",
    "print(\"----------------------\")\n",
    "print(\"Total Votes: \" + str(totalVotes))\n",
    "print(\"----------------------\")\n",
    "print('khan: ' + str(khan_votePercentage) +'% (' + str(khan_vote) + ')')\n",
    "print('Correy: ' + str(Correy_votePercentage) +'% (' + str(Correy_vote) + ')')\n",
    "print('Li: ' + str(Li_votePercentage) +'% (' + str(Li_vote) + ')')\n",
    "print(\"O'Tooley: \" + str(Tooley_votePercentage) +'% (' + str(Tooley_vote) + ')')\n",
    "print(\"----------------------\")\n",
    "print('Winner: ' + str(Winner) )\n",
    "print(\"----------------------\")"
   ]
  },
  {
   "cell_type": "code",
   "execution_count": 108,
   "metadata": {},
   "outputs": [],
   "source": [
    "#---------------------------------------------------------------------------------------------------\n",
    "#                                     printing all results in file\n",
    "#---------------------------------------------------------------------------------------------------\n",
    "with open(\"Output/output.txt\", \"a\") as f:        \n",
    "    print(\"Financial Analysis\", file=f)\n",
    "    print(\"-------------------------\", file=f)\n",
    "    print(\"Total Months : \" + str(months), file=f)\n",
    "    print(\"Total : $\" + str(total_PL), file=f)\n",
    "    print(\"Average Change : $\" + str(avgchg), file=f)\n",
    "    print(\"Greatest Increase in Profit : $\" + str(grtIncProfitMonth) + \" ($\" + str(int(grtIncProfit)) + \")\", file=f)\n",
    "    print(\"Greatest Decrease in Profit : $\" + str(grtDecProfitMonth) + \" ($\" + str(int(grtDecProfit)) + \")\", file=f)\n",
    "    #---------------------------------------------------------------------------------------------------\n",
    "    #                                     printing pyBank in file\n",
    "    #---------------------------------------------------------------------------------------------------\n",
    "    print(\"--------------Results for PyBank--------\", file=f)\n",
    "    print(\"Election Results\", file=f)\n",
    "    print(\"----------------------\", file=f)\n",
    "    print(\"Total Votes: \" + str(totalVotes), file=f)\n",
    "    print(\"----------------------\", file=f)\n",
    "    print('khan: ' + str(khan_votePercentage) +'% (' + str(khan_vote) + ')', file=f)\n",
    "    print('Correy: ' + str(Correy_votePercentage) +'% (' + str(Correy_vote) + ')', file=f)\n",
    "    print('Li: ' + str(Li_votePercentage) +'% (' + str(Li_vote) + ')', file=f)\n",
    "    print(\"O'Tooley: \" + str(Tooley_votePercentage) +'% (' + str(Tooley_vote) + ')', file=f)\n",
    "    print(\"----------------------\", file=f)\n",
    "    print('Winner: ' + str(Winner) , file=f)\n",
    "    print(\"----------------------\", file=f)\n",
    "    \n",
    "    "
   ]
  }
 ],
 "metadata": {
  "kernelspec": {
   "display_name": "Python 3",
   "language": "python",
   "name": "python3"
  },
  "language_info": {
   "codemirror_mode": {
    "name": "ipython",
    "version": 3
   },
   "file_extension": ".py",
   "mimetype": "text/x-python",
   "name": "python",
   "nbconvert_exporter": "python",
   "pygments_lexer": "ipython3",
   "version": "3.7.3"
  }
 },
 "nbformat": 4,
 "nbformat_minor": 2
}
